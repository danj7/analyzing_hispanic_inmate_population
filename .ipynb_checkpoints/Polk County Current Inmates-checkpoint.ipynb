{
 "cells": [
  {
   "cell_type": "markdown",
   "metadata": {},
   "source": [
    "# Polk County Current Inmates"
   ]
  },
  {
   "cell_type": "markdown",
   "metadata": {},
   "source": [
    "Loading libraries..."
   ]
  },
  {
   "cell_type": "code",
   "execution_count": 1,
   "metadata": {},
   "outputs": [],
   "source": [
    "import numpy as np\n",
    "import pandas as pd\n",
    "import requests\n",
    "from bs4 import BeautifulSoup\n",
    "from selenium import webdriver\n",
    "from selenium.webdriver.common.keys import Keys\n",
    "import time\n",
    "import matplotlib.pyplot as plt"
   ]
  },
  {
   "cell_type": "markdown",
   "metadata": {},
   "source": [
    "## Getting the inmate data"
   ]
  },
  {
   "cell_type": "markdown",
   "metadata": {},
   "source": [
    "This is the web address where we get the inmate data."
   ]
  },
  {
   "cell_type": "code",
   "execution_count": 2,
   "metadata": {},
   "outputs": [],
   "source": [
    "url_polk_domain = 'https://apps.polkcountyiowa.gov' #used to access inmate details\n",
    "url_polk_curr_inmates = url_polk_domain +'/PolkCountyInmates/CurrentInmates'"
   ]
  },
  {
   "cell_type": "markdown",
   "metadata": {},
   "source": [
    "The tables are not shown in the source html, so a Selenium WebDriver is used to emulate the browser and automate the extraction of the data."
   ]
  },
  {
   "cell_type": "code",
   "execution_count": 3,
   "metadata": {},
   "outputs": [],
   "source": [
    "#I am emulating a Firefox browser.\n",
    "#The driver is set to work in headless mode so it doesn't bring up a browser window.\n",
    "ffoptions = webdriver.firefox.options.Options()\n",
    "ffoptions.headless = True\n",
    "#The driver is defined and wait time is set (though I am not 100% sure how it works).\n",
    "driver = webdriver.Firefox(options=ffoptions)\n",
    "driver.implicitly_wait(1)"
   ]
  },
  {
   "cell_type": "markdown",
   "metadata": {},
   "source": [
    "Getting the website with the list of current inmates."
   ]
  },
  {
   "cell_type": "code",
   "execution_count": 4,
   "metadata": {},
   "outputs": [
    {
     "name": "stdout",
     "output_type": "stream",
     "text": [
      "Number of inmates in sample = 866\n"
     ]
    }
   ],
   "source": [
    "driver.get(url_polk_curr_inmates)\n",
    "time.sleep(1)\n",
    "#using Beautiful Soup to parse the html and make it easier to extract data.\n",
    "soup_polk = BeautifulSoup(driver.page_source)\n",
    "#In the driver page source the table with the data is present.\n",
    "rows = soup_polk.find_all('tr')\n",
    "rows.pop(0) #removing table header with titles\n",
    "total_inmates = len(rows)\n",
    "print('Number of inmates in sample =', total_inmates)"
   ]
  },
  {
   "cell_type": "markdown",
   "metadata": {},
   "source": [
    "The table extracted above has partial names and a link to each inmate's personal data, so we need to access that link.\n",
    "A list of those links is created with the following cell."
   ]
  },
  {
   "cell_type": "code",
   "execution_count": 5,
   "metadata": {
    "scrolled": true
   },
   "outputs": [
    {
     "name": "stdout",
     "output_type": "stream",
     "text": [
      "# of detail pages = 866\n"
     ]
    }
   ],
   "source": [
    "details_page_list = []\n",
    "\n",
    "for row in rows:\n",
    "    details_page_list.append(row.find('a')['href'])\n",
    "#\n",
    "print('# of detail pages =',len(details_page_list))"
   ]
  },
  {
   "cell_type": "markdown",
   "metadata": {},
   "source": [
    "Each details page is accessed and the name and race is extracted. This step takes quite a bit of time."
   ]
  },
  {
   "cell_type": "code",
   "execution_count": 6,
   "metadata": {
    "scrolled": true
   },
   "outputs": [],
   "source": [
    "inmate_names = []\n",
    "inmate_races = []\n",
    "\n",
    "for i, detail_page in enumerate(details_page_list):\n",
    "    driver.get(url_polk_domain+detail_page)\n",
    "    #time.sleep(.1) #just in case, maybe not\n",
    "    details_page_text = BeautifulSoup(driver.page_source)\n",
    "    labels = details_page_text.find_all('label')\n",
    "    name = labels[1].next_sibling.strip()\n",
    "    race = labels[8].next_sibling.strip()\n",
    "    inmate_names.append(name)\n",
    "    inmate_races.append(race)\n",
    "#     print('item #{}:'.format(i),'name =', name, '; race =', race)\n",
    "#\n",
    "assert len(inmate_names) == total_inmates, \"Some inmates' data is missing!\"\n",
    "assert len(inmate_races) == total_inmates, \"Some inmates' data is missing!\""
   ]
  },
  {
   "cell_type": "markdown",
   "metadata": {},
   "source": [
    "We can now close the Selenium WebDriver."
   ]
  },
  {
   "cell_type": "code",
   "execution_count": 7,
   "metadata": {},
   "outputs": [],
   "source": [
    "driver.close()"
   ]
  },
  {
   "cell_type": "markdown",
   "metadata": {},
   "source": [
    "Now the table with the inmates' names and races is created. Notice that \"Hispanic\" or \"Latino\" is not shown in the list of unique values."
   ]
  },
  {
   "cell_type": "code",
   "execution_count": 8,
   "metadata": {},
   "outputs": [
    {
     "name": "stdout",
     "output_type": "stream",
     "text": [
      "Race categories used in database:  ['White' 'Black' 'Pacific Islander' 'Asian']\n"
     ]
    }
   ],
   "source": [
    "inmate_table = pd.DataFrame.from_dict({'Name':inmate_names, 'Race':inmate_races})\n",
    "print(\"Race categories used in database: \", inmate_table['Race'].unique())"
   ]
  },
  {
   "cell_type": "markdown",
   "metadata": {},
   "source": [
    "Inspecting the head of the table."
   ]
  },
  {
   "cell_type": "code",
   "execution_count": 9,
   "metadata": {},
   "outputs": [
    {
     "data": {
      "text/html": [
       "<div>\n",
       "<style scoped>\n",
       "    .dataframe tbody tr th:only-of-type {\n",
       "        vertical-align: middle;\n",
       "    }\n",
       "\n",
       "    .dataframe tbody tr th {\n",
       "        vertical-align: top;\n",
       "    }\n",
       "\n",
       "    .dataframe thead th {\n",
       "        text-align: right;\n",
       "    }\n",
       "</style>\n",
       "<table border=\"1\" class=\"dataframe\">\n",
       "  <thead>\n",
       "    <tr style=\"text-align: right;\">\n",
       "      <th></th>\n",
       "      <th>Name</th>\n",
       "      <th>Race</th>\n",
       "    </tr>\n",
       "  </thead>\n",
       "  <tbody>\n",
       "    <tr>\n",
       "      <th>0</th>\n",
       "      <td>JACOB DANIEL OWENS</td>\n",
       "      <td>White</td>\n",
       "    </tr>\n",
       "    <tr>\n",
       "      <th>1</th>\n",
       "      <td>JOHN RICHARD COHOON</td>\n",
       "      <td>White</td>\n",
       "    </tr>\n",
       "    <tr>\n",
       "      <th>2</th>\n",
       "      <td>JOSEPH KEITH MAHL</td>\n",
       "      <td>White</td>\n",
       "    </tr>\n",
       "    <tr>\n",
       "      <th>3</th>\n",
       "      <td>GLENNELL  BLAKE</td>\n",
       "      <td>Black</td>\n",
       "    </tr>\n",
       "    <tr>\n",
       "      <th>4</th>\n",
       "      <td>RYAN LEE JOHNSON</td>\n",
       "      <td>White</td>\n",
       "    </tr>\n",
       "  </tbody>\n",
       "</table>\n",
       "</div>"
      ],
      "text/plain": [
       "                  Name   Race\n",
       "0   JACOB DANIEL OWENS  White\n",
       "1  JOHN RICHARD COHOON  White\n",
       "2    JOSEPH KEITH MAHL  White\n",
       "3      GLENNELL  BLAKE  Black\n",
       "4     RYAN LEE JOHNSON  White"
      ]
     },
     "execution_count": 9,
     "metadata": {},
     "output_type": "execute_result"
    }
   ],
   "source": [
    "inmate_table.head()"
   ]
  },
  {
   "cell_type": "markdown",
   "metadata": {},
   "source": [
    "## Getting a list of common Hispanic names in the US"
   ]
  },
  {
   "cell_type": "markdown",
   "metadata": {},
   "source": [
    "We are going to extract a list of common Hispanic names in the US. This is from the website Mongobay.com and the data is taken from the 2010 US Census. This list will be used to compare with the names of the inmates and determine whether or not they are hispanic. This determination is not perfect and it's more of an educated guess."
   ]
  },
  {
   "cell_type": "code",
   "execution_count": 10,
   "metadata": {},
   "outputs": [
    {
     "name": "stdout",
     "output_type": "stream",
     "text": [
      "['Apellido', 'GARCIA', 'RODRIGUEZ'] ... ['CORIA', '\\n', '\\n']\n"
     ]
    }
   ],
   "source": [
    "url_common_lastnames = 'https://global.mongabay.com/es/nombres/hispanic.html'\n",
    "\n",
    "response_common_lastnames = requests.get(url_common_lastnames)\n",
    "soup_common_lastnames = BeautifulSoup(response_common_lastnames.text)\n",
    "table = soup_common_lastnames.find_all(id='myTable')[0]\n",
    "\n",
    "#One problem with the list is that it also contains last names that might give distorted results because,\n",
    "#while they can occur in latin american countries, they are much more common in the US.\n",
    "#So I inspected the list and will reject the following last names.\n",
    "rejected_names = ['MILLER', 'SMITH', 'MARTIN', 'BROWN', 'JONES', 'DAVIS', 'WILSON', 'THOMAS', 'THOMPSON', 'WHITE',\n",
    "                  'CLARK', 'ROBINSON', 'LEWIS', 'LEE', 'YOUNG', 'ALLEN', 'GREEN', 'SCOTT', 'ADAMS', 'WRIGHT', 'BAKER',\n",
    "                  'MITCHELL', 'CARTER', 'PHILLIPS', 'PERSON', 'EDWARDS', 'COLLINS', 'MORRIS', 'STEWART', 'MORGAN',\n",
    "                  'ROGERS', 'PARKER', 'MURPHY', 'KELLY', 'RICHARDSON', 'COOPER', 'PETERSON', 'COOK', 'HOWARD', 'BROOKS',\n",
    "                  'BENNET', 'REED', 'COX', 'WATSON', 'WOOD', 'GRAY', 'SANDERS', 'PERRY', 'HUGHES', 'HENDERSON',\n",
    "                  'RUSSELL', 'BELL', 'PRICE', 'FISHER', 'POWELL', 'BUTLER', 'LONG', 'GRAHAM', 'STEVENS', 'BARNES',\n",
    "                 'ALEXANDER', 'TURNER', 'JAMES', 'JOHNSON', 'JORDAN', 'HARRIS', 'WILLIAMS', 'JACKSON', 'WALKER',\n",
    "                  'FOSTER', 'HALL', 'HILL', 'EVANS', 'ALONZO', 'ROBERTS', 'ROSS', 'TAYLOR', 'CAMPBELL', 'KING',\n",
    "                 'ANDERSON', 'NELSON']\n",
    "\n",
    "common_names_list = []\n",
    "#There are 10 columns in this table, which is being processed as a list of strings using the .strings method.\n",
    "#However, an extra column with '\\n' is present at the beginning because of the HTML,\n",
    "#so we are taking the name to be in the second column.\n",
    "count = 1\n",
    "for i, s in enumerate(table.strings):\n",
    "    if (i%11==1) and (s not in rejected_names):\n",
    "        common_names_list.append(s)\n",
    "print(common_names_list[:3], '...', common_names_list[-3:]) #inspection of the result"
   ]
  },
  {
   "cell_type": "markdown",
   "metadata": {},
   "source": [
    "We notice that the column title is at the beginning and there are two unwanted characters at the tail, so they are removed."
   ]
  },
  {
   "cell_type": "code",
   "execution_count": 11,
   "metadata": {},
   "outputs": [
    {
     "name": "stdout",
     "output_type": "stream",
     "text": [
      "Total number of names: 899\n",
      "['GARCIA', 'RODRIGUEZ', 'HERNANDEZ'] ... ['MELGOZA', 'CALVO', 'CORIA']\n"
     ]
    }
   ],
   "source": [
    "common_names_list.pop(0)\n",
    "common_names_list.pop()\n",
    "common_names_list.pop()\n",
    "print('Total number of names:', len(common_names_list))\n",
    "print(common_names_list[:3], '...', common_names_list[-3:]) #inspection of the result"
   ]
  },
  {
   "cell_type": "markdown",
   "metadata": {},
   "source": [
    "Saving the list to a text file."
   ]
  },
  {
   "cell_type": "code",
   "execution_count": 12,
   "metadata": {},
   "outputs": [],
   "source": [
    "with open('common_names_list.txt', 'w') as f:\n",
    "    for i in range(len(common_names_list)):\n",
    "        f.write(common_names_list[i]+'\\n')"
   ]
  },
  {
   "cell_type": "markdown",
   "metadata": {},
   "source": [
    "Now, a new column is created comparing the names of inmates and checking them agains the list of common hispanic names.\n",
    "This will be accomplished using the .apply() method and creating a lambda function."
   ]
  },
  {
   "cell_type": "code",
   "execution_count": 13,
   "metadata": {},
   "outputs": [],
   "source": [
    "inmate_table['Race (reviewed)'] = inmate_table['Name'].apply(\n",
    "    lambda x: \"Hispanic\" if len(set(x.split()).intersection(common_names_list))>0 \n",
    "    else inmate_table.iloc[np.where(inmate_table==x)[0][0], 1])"
   ]
  },
  {
   "cell_type": "code",
   "execution_count": 15,
   "metadata": {},
   "outputs": [
    {
     "data": {
      "text/html": [
       "<div>\n",
       "<style scoped>\n",
       "    .dataframe tbody tr th:only-of-type {\n",
       "        vertical-align: middle;\n",
       "    }\n",
       "\n",
       "    .dataframe tbody tr th {\n",
       "        vertical-align: top;\n",
       "    }\n",
       "\n",
       "    .dataframe thead th {\n",
       "        text-align: right;\n",
       "    }\n",
       "</style>\n",
       "<table border=\"1\" class=\"dataframe\">\n",
       "  <thead>\n",
       "    <tr style=\"text-align: right;\">\n",
       "      <th></th>\n",
       "      <th>Name</th>\n",
       "      <th>Race</th>\n",
       "      <th>Race (reviewed)</th>\n",
       "    </tr>\n",
       "  </thead>\n",
       "  <tbody>\n",
       "    <tr>\n",
       "      <th>508</th>\n",
       "      <td>OSCAR ROLANDO GOMEZ BUSTAMANTE</td>\n",
       "      <td>White</td>\n",
       "      <td>Hispanic</td>\n",
       "    </tr>\n",
       "    <tr>\n",
       "      <th>115</th>\n",
       "      <td>VIRGIL JOSEPH JOHNSON</td>\n",
       "      <td>White</td>\n",
       "      <td>White</td>\n",
       "    </tr>\n",
       "    <tr>\n",
       "      <th>407</th>\n",
       "      <td>WILLIAM LESTER LANE</td>\n",
       "      <td>White</td>\n",
       "      <td>White</td>\n",
       "    </tr>\n",
       "    <tr>\n",
       "      <th>367</th>\n",
       "      <td>MAYMIE ALICE JENKINS</td>\n",
       "      <td>White</td>\n",
       "      <td>White</td>\n",
       "    </tr>\n",
       "    <tr>\n",
       "      <th>277</th>\n",
       "      <td>FELLA JAMES FELLA</td>\n",
       "      <td>Black</td>\n",
       "      <td>Black</td>\n",
       "    </tr>\n",
       "    <tr>\n",
       "      <th>514</th>\n",
       "      <td>ROBERT WILLIAM KUHN</td>\n",
       "      <td>White</td>\n",
       "      <td>White</td>\n",
       "    </tr>\n",
       "    <tr>\n",
       "      <th>196</th>\n",
       "      <td>SAMANTHA LYNN JACKMAN</td>\n",
       "      <td>White</td>\n",
       "      <td>White</td>\n",
       "    </tr>\n",
       "    <tr>\n",
       "      <th>253</th>\n",
       "      <td>LORAN SHAE WOLETT</td>\n",
       "      <td>White</td>\n",
       "      <td>White</td>\n",
       "    </tr>\n",
       "    <tr>\n",
       "      <th>143</th>\n",
       "      <td>LINSEY ANN BRADFORD</td>\n",
       "      <td>White</td>\n",
       "      <td>White</td>\n",
       "    </tr>\n",
       "    <tr>\n",
       "      <th>665</th>\n",
       "      <td>IAN THOMAS HAMILL</td>\n",
       "      <td>White</td>\n",
       "      <td>White</td>\n",
       "    </tr>\n",
       "  </tbody>\n",
       "</table>\n",
       "</div>"
      ],
      "text/plain": [
       "                               Name   Race Race (reviewed)\n",
       "508  OSCAR ROLANDO GOMEZ BUSTAMANTE  White        Hispanic\n",
       "115           VIRGIL JOSEPH JOHNSON  White           White\n",
       "407             WILLIAM LESTER LANE  White           White\n",
       "367            MAYMIE ALICE JENKINS  White           White\n",
       "277               FELLA JAMES FELLA  Black           Black\n",
       "514             ROBERT WILLIAM KUHN  White           White\n",
       "196           SAMANTHA LYNN JACKMAN  White           White\n",
       "253               LORAN SHAE WOLETT  White           White\n",
       "143             LINSEY ANN BRADFORD  White           White\n",
       "665               IAN THOMAS HAMILL  White           White"
      ]
     },
     "execution_count": 15,
     "metadata": {},
     "output_type": "execute_result"
    }
   ],
   "source": [
    "inmate_table.sample(10)"
   ]
  },
  {
   "cell_type": "markdown",
   "metadata": {},
   "source": [
    "Now I want to show the distribution of inmate race according to the original count and the reviewed count. A new table will be created using the counts for each of the columns. There is also some cleaning up that must be done, since merging the two tables with counts brings a row with a NaN entry and, for some reason, after the merge it is casted as `float` instead of `int`."
   ]
  },
  {
   "cell_type": "code",
   "execution_count": 16,
   "metadata": {
    "scrolled": false
   },
   "outputs": [
    {
     "data": {
      "text/html": [
       "<div>\n",
       "<style scoped>\n",
       "    .dataframe tbody tr th:only-of-type {\n",
       "        vertical-align: middle;\n",
       "    }\n",
       "\n",
       "    .dataframe tbody tr th {\n",
       "        vertical-align: top;\n",
       "    }\n",
       "\n",
       "    .dataframe thead th {\n",
       "        text-align: right;\n",
       "    }\n",
       "</style>\n",
       "<table border=\"1\" class=\"dataframe\">\n",
       "  <thead>\n",
       "    <tr style=\"text-align: right;\">\n",
       "      <th></th>\n",
       "      <th>Original</th>\n",
       "      <th>Reviewed</th>\n",
       "    </tr>\n",
       "    <tr>\n",
       "      <th>Race (reviewed)</th>\n",
       "      <th></th>\n",
       "      <th></th>\n",
       "    </tr>\n",
       "  </thead>\n",
       "  <tbody>\n",
       "    <tr>\n",
       "      <th>Asian</th>\n",
       "      <td>21</td>\n",
       "      <td>20</td>\n",
       "    </tr>\n",
       "    <tr>\n",
       "      <th>Black</th>\n",
       "      <td>248</td>\n",
       "      <td>232</td>\n",
       "    </tr>\n",
       "    <tr>\n",
       "      <th>Pacific Islander</th>\n",
       "      <td>9</td>\n",
       "      <td>8</td>\n",
       "    </tr>\n",
       "    <tr>\n",
       "      <th>White</th>\n",
       "      <td>588</td>\n",
       "      <td>534</td>\n",
       "    </tr>\n",
       "    <tr>\n",
       "      <th>Hispanic</th>\n",
       "      <td>0</td>\n",
       "      <td>72</td>\n",
       "    </tr>\n",
       "  </tbody>\n",
       "</table>\n",
       "</div>"
      ],
      "text/plain": [
       "                  Original  Reviewed\n",
       "Race (reviewed)                     \n",
       "Asian                   21        20\n",
       "Black                  248       232\n",
       "Pacific Islander         9         8\n",
       "White                  588       534\n",
       "Hispanic                 0        72"
      ]
     },
     "execution_count": 16,
     "metadata": {},
     "output_type": "execute_result"
    }
   ],
   "source": [
    "original = inmate_table.groupby('Race').count()[['Name']].reset_index()\n",
    "reviewed = inmate_table.groupby('Race (reviewed)').count()[['Name']].reset_index()\n",
    "\n",
    "inmate_race_counts = pd.merge(original, reviewed, left_on='Race', right_on='Race (reviewed)', how='right')\n",
    "del inmate_race_counts['Race']\n",
    "inmate_race_counts.set_index('Race (reviewed)', inplace=True)\n",
    "inmate_race_counts.columns = ['Original', 'Reviewed']\n",
    "inmate_race_counts['Original'].fillna(0, inplace=True)\n",
    "inmate_race_counts['Original'] = inmate_race_counts['Original'].astype(int)\n",
    "\n",
    "#Inspecting resulting table\n",
    "inmate_race_counts"
   ]
  },
  {
   "cell_type": "markdown",
   "metadata": {},
   "source": [
    "Finally, the distributions are plotted in bar graph."
   ]
  },
  {
   "cell_type": "code",
   "execution_count": 20,
   "metadata": {},
   "outputs": [
    {
     "data": {
      "image/png": "[encoded data removed]",
      "text/plain": [
       "<Figure size 864x576 with 1 Axes>"
      ]
     },
     "metadata": {
      "needs_background": "light"
     },
     "output_type": "display_data"
    }
   ],
   "source": [
    "#Creating ax object with plot\n",
    "ax = inmate_race_counts.plot(kind='bar',figsize=(12,8), rot=45, fontsize=14)\n",
    "\n",
    "# Customize the plot to improve readability\n",
    "ax.set_ylabel(\"Number of inmates\")\n",
    "ax.set_title(\"Race distribution of inmates in Polk County\")\n",
    "\n",
    "\n",
    "# Displaying the plot\n",
    "plt.show()"
   ]
  },
  {
   "cell_type": "markdown",
   "metadata": {},
   "source": [
    "Saving the figure."
   ]
  },
  {
   "cell_type": "code",
   "execution_count": 23,
   "metadata": {},
   "outputs": [],
   "source": [
    "ax.figure.tight_layout()\n",
    "ax.figure.savefig('polk_county')"
   ]
  },
  {
   "cell_type": "code",
   "execution_count": null,
   "metadata": {},
   "outputs": [],
   "source": []
  }
 ],
 "metadata": {
  "kernelspec": {
   "display_name": "Python 3",
   "language": "python",
   "name": "python3"
  },
  "language_info": {
   "codemirror_mode": {
    "name": "ipython",
    "version": 3
   },
   "file_extension": ".py",
   "mimetype": "text/x-python",
   "name": "python",
   "nbconvert_exporter": "python",
   "pygments_lexer": "ipython3",
   "version": "3.7.3"
  }
 },
 "nbformat": 4,
 "nbformat_minor": 2
}
