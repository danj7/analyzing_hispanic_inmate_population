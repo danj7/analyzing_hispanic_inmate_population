{
 "cells": [
  {
   "cell_type": "markdown",
   "metadata": {},
   "source": [
    "# Approximating the number of Hispanic inmates"
   ]
  },
  {
   "cell_type": "markdown",
   "metadata": {},
   "source": [
    "Loading the libraries to be used:"
   ]
  },
  {
   "cell_type": "code",
   "execution_count": null,
   "metadata": {},
   "outputs": [],
   "source": [
    "qtconsole"
   ]
  },
  {
   "cell_type": "code",
   "execution_count": 1,
   "metadata": {},
   "outputs": [],
   "source": [
    "import pandas as pd\n",
    "import requests\n",
    "from bs4 import BeautifulSoup\n",
    "from selenium import webdriver\n",
    "from selenium.webdriver.common.keys import Keys\n",
    "import time\n",
    "import numpy as np"
   ]
  },
  {
   "cell_type": "markdown",
   "metadata": {},
   "source": [
    "## Getting a list of common Hispanic names in the US"
   ]
  },
  {
   "cell_type": "markdown",
   "metadata": {},
   "source": [
    "We are going to use the same list as in the case of Polk County (view the other notebook in this repo). This list is a reduced version of the one found at the website Mongobay.com and the data is taken from the 2010 US Census. This list will be used to compare with the names of the inmates and guess whether or not they are hispanic."
   ]
  },
  {
   "cell_type": "code",
   "execution_count": 2,
   "metadata": {},
   "outputs": [
    {
     "name": "stdout",
     "output_type": "stream",
     "text": [
      "Total number of names = 899\n"
     ]
    }
   ],
   "source": [
    "common_names_list = np.loadtxt('common_names_list.txt', dtype=str, unpack=True)\n",
    "print('Total number of names =', len(common_names_list))"
   ]
  },
  {
   "cell_type": "markdown",
   "metadata": {},
   "source": [
    "# Trying with only 2 names!"
   ]
  },
  {
   "cell_type": "code",
   "execution_count": 3,
   "metadata": {},
   "outputs": [
    {
     "name": "stdout",
     "output_type": "stream",
     "text": [
      "Total number of names = 2\n"
     ]
    }
   ],
   "source": [
    "common_names_list = common_names_list[:2]\n",
    "print('Total number of names =', len(common_names_list))"
   ]
  },
  {
   "cell_type": "markdown",
   "metadata": {},
   "source": [
    "The next function makes it easier to access the search page with parameters such as 'Search Aliases = No'."
   ]
  },
  {
   "cell_type": "code",
   "execution_count": 4,
   "metadata": {},
   "outputs": [],
   "source": [
    "def make_url(last_name):\n",
    "    return 'http://www.dc.state.fl.us/OffenderSearch/list.aspx?TypeSearch=AI&Page=List&DataAction=Filter&dcnumber=&LastName={}&FirstName=&SearchAliases=0&OffenseCategory=&CurrentLocation=&CountyOfCommitment=&photosonly=0&nophotos=1&matches=50'.format(last_name)"
   ]
  },
  {
   "cell_type": "markdown",
   "metadata": {},
   "source": [
    "Setting up the webdriver which will simulate accessing the website in a Firefox Browser.\n",
    "We set it to headless so that an actual browser window."
   ]
  },
  {
   "cell_type": "code",
   "execution_count": 5,
   "metadata": {},
   "outputs": [],
   "source": [
    "ffoptions = webdriver.firefox.options.Options()\n",
    "ffoptions.headless = True\n",
    "driver = webdriver.Firefox(options=ffoptions)\n",
    "driver.implicitly_wait(1)"
   ]
  },
  {
   "cell_type": "markdown",
   "metadata": {},
   "source": [
    "Setting up the list of tables which will be collected and then running the collection loop."
   ]
  },
  {
   "cell_type": "code",
   "execution_count": 6,
   "metadata": {
    "scrolled": true
   },
   "outputs": [
    {
     "name": "stdout",
     "output_type": "stream",
     "text": [
      "i: 0 ; name= GARCIA\n",
      "i: 1 ; name= RODRIGUEZ\n"
     ]
    }
   ],
   "source": [
    "list_of_tables = []\n",
    "\n",
    "for i, name in enumerate(common_names_list):\n",
    "    print('i:',i,'; name=',name)\n",
    "    number_of_results = last_elem_page = 50 #number of results per page and a variable to check if it is finished loading\n",
    "    try:\n",
    "        driver.get(make_url(name))\n",
    "        last_elem_total = driver.find_element_by_id('ctl00_ContentPlaceHolder1_lblgrdListPage')\n",
    "        last_elem_total = int(last_elem_total.text[last_elem_total.text.find('of') + 3:])\n",
    "    except:\n",
    "        #no results and no table found, therefore continue on to the next name\n",
    "        continue\n",
    "\n",
    "    while True:\n",
    "        temp_table = pd.read_html(driver.page_source, attrs={'id':'ctl00_ContentPlaceHolder1_grdList'})[0]\n",
    "        time.sleep(1)\n",
    "        if (str(last_elem_page) in temp_table.iloc[-1,0]) or (str(last_elem_total) in temp_table.iloc[-1,0]):\n",
    "            #sometimes the next page won't load quickly enough and the same table is reloaded\n",
    "            #this checks where we are in the collection and avoids duplicate tables\n",
    "            list_of_tables.append(temp_table)\n",
    "            last_elem_page += number_of_results\n",
    "            try:\n",
    "                #moving on to the next page of results.\n",
    "                elem = driver.find_element_by_name('ctl00$ContentPlaceHolder1$btnListNext')\n",
    "                elem.send_keys(Keys.RETURN)\n",
    "            except:\n",
    "                #no more results. move on to next name.\n",
    "                break"
   ]
  },
  {
   "cell_type": "markdown",
   "metadata": {},
   "source": [
    "We close the webdriver object and concatenate all DataFrames collected."
   ]
  },
  {
   "cell_type": "code",
   "execution_count": 7,
   "metadata": {},
   "outputs": [],
   "source": [
    "driver.close()\n",
    "hispanic_inmates = pd.concat(list_of_tables)\n",
    "hispanic_inmates.reset_index(inplace=True)"
   ]
  },
  {
   "cell_type": "markdown",
   "metadata": {},
   "source": [
    "Table inspection"
   ]
  },
  {
   "cell_type": "code",
   "execution_count": 8,
   "metadata": {},
   "outputs": [
    {
     "data": {
      "text/html": [
       "<div>\n",
       "<style scoped>\n",
       "    .dataframe tbody tr th:only-of-type {\n",
       "        vertical-align: middle;\n",
       "    }\n",
       "\n",
       "    .dataframe tbody tr th {\n",
       "        vertical-align: top;\n",
       "    }\n",
       "\n",
       "    .dataframe thead th {\n",
       "        text-align: right;\n",
       "    }\n",
       "</style>\n",
       "<table border=\"1\" class=\"dataframe\">\n",
       "  <thead>\n",
       "    <tr style=\"text-align: right;\">\n",
       "      <th></th>\n",
       "      <th>index</th>\n",
       "      <th>Click Number for Details</th>\n",
       "      <th>Name</th>\n",
       "      <th>DC Number</th>\n",
       "      <th>Race</th>\n",
       "      <th>Sex</th>\n",
       "      <th>Release Date</th>\n",
       "      <th>Current Facility</th>\n",
       "      <th>Birth Date</th>\n",
       "    </tr>\n",
       "  </thead>\n",
       "  <tbody>\n",
       "    <tr>\n",
       "      <th>0</th>\n",
       "      <td>0</td>\n",
       "      <td>*1</td>\n",
       "      <td>GARCIA, ADOLFO I</td>\n",
       "      <td>185800</td>\n",
       "      <td>WHITE</td>\n",
       "      <td>MALE</td>\n",
       "      <td>04/14/2021</td>\n",
       "      <td>EVERGLADES C.I.</td>\n",
       "      <td>10/10/1946</td>\n",
       "    </tr>\n",
       "    <tr>\n",
       "      <th>1</th>\n",
       "      <td>1</td>\n",
       "      <td>*2</td>\n",
       "      <td>GARCIA, ALEXANDER X</td>\n",
       "      <td>158442</td>\n",
       "      <td>WHITE</td>\n",
       "      <td>MALE</td>\n",
       "      <td>05/19/2029</td>\n",
       "      <td>OKALOOSA C.I.</td>\n",
       "      <td>05/31/1988</td>\n",
       "    </tr>\n",
       "    <tr>\n",
       "      <th>2</th>\n",
       "      <td>2</td>\n",
       "      <td>*3</td>\n",
       "      <td>GARCIA, ALFREDO</td>\n",
       "      <td>K04686</td>\n",
       "      <td>BLACK</td>\n",
       "      <td>MALE</td>\n",
       "      <td>02/23/2041</td>\n",
       "      <td>BLACKWATER C.F.</td>\n",
       "      <td>06/27/1982</td>\n",
       "    </tr>\n",
       "    <tr>\n",
       "      <th>3</th>\n",
       "      <td>3</td>\n",
       "      <td>*4</td>\n",
       "      <td>GARCIA, ALFREDO</td>\n",
       "      <td>U56632</td>\n",
       "      <td>WHITE</td>\n",
       "      <td>MALE</td>\n",
       "      <td>03/03/2026</td>\n",
       "      <td>HOLMES C.I.</td>\n",
       "      <td>09/07/1993</td>\n",
       "    </tr>\n",
       "    <tr>\n",
       "      <th>4</th>\n",
       "      <td>4</td>\n",
       "      <td>*5</td>\n",
       "      <td>GARCIA, AMADO JR</td>\n",
       "      <td>C08727</td>\n",
       "      <td>HISPANIC</td>\n",
       "      <td>MALE</td>\n",
       "      <td>05/10/2020</td>\n",
       "      <td>CFRC-EAST</td>\n",
       "      <td>12/29/1989</td>\n",
       "    </tr>\n",
       "  </tbody>\n",
       "</table>\n",
       "</div>"
      ],
      "text/plain": [
       "   index Click Number for Details                 Name DC Number      Race  \\\n",
       "0      0                       *1     GARCIA, ADOLFO I    185800     WHITE   \n",
       "1      1                       *2  GARCIA, ALEXANDER X    158442     WHITE   \n",
       "2      2                       *3      GARCIA, ALFREDO    K04686     BLACK   \n",
       "3      3                       *4      GARCIA, ALFREDO    U56632     WHITE   \n",
       "4      4                       *5     GARCIA, AMADO JR    C08727  HISPANIC   \n",
       "\n",
       "    Sex Release Date Current Facility  Birth Date  \n",
       "0  MALE   04/14/2021  EVERGLADES C.I.  10/10/1946  \n",
       "1  MALE   05/19/2029    OKALOOSA C.I.  05/31/1988  \n",
       "2  MALE   02/23/2041  BLACKWATER C.F.  06/27/1982  \n",
       "3  MALE   03/03/2026      HOLMES C.I.  09/07/1993  \n",
       "4  MALE   05/10/2020        CFRC-EAST  12/29/1989  "
      ]
     },
     "execution_count": 8,
     "metadata": {},
     "output_type": "execute_result"
    }
   ],
   "source": [
    "hispanic_inmates.head()"
   ]
  },
  {
   "cell_type": "code",
   "execution_count": 9,
   "metadata": {},
   "outputs": [
    {
     "data": {
      "text/html": [
       "<div>\n",
       "<style scoped>\n",
       "    .dataframe tbody tr th:only-of-type {\n",
       "        vertical-align: middle;\n",
       "    }\n",
       "\n",
       "    .dataframe tbody tr th {\n",
       "        vertical-align: top;\n",
       "    }\n",
       "\n",
       "    .dataframe thead th {\n",
       "        text-align: right;\n",
       "    }\n",
       "</style>\n",
       "<table border=\"1\" class=\"dataframe\">\n",
       "  <thead>\n",
       "    <tr style=\"text-align: right;\">\n",
       "      <th></th>\n",
       "      <th>index</th>\n",
       "      <th>Click Number for Details</th>\n",
       "      <th>Name</th>\n",
       "      <th>DC Number</th>\n",
       "      <th>Race</th>\n",
       "      <th>Sex</th>\n",
       "      <th>Release Date</th>\n",
       "      <th>Current Facility</th>\n",
       "      <th>Birth Date</th>\n",
       "    </tr>\n",
       "  </thead>\n",
       "  <tbody>\n",
       "    <tr>\n",
       "      <th>732</th>\n",
       "      <td>15</td>\n",
       "      <td>*466</td>\n",
       "      <td>RODRIGUEZOCHOA, SEBASTIAN</td>\n",
       "      <td>S41740</td>\n",
       "      <td>HISPANIC</td>\n",
       "      <td>MALE</td>\n",
       "      <td>04/06/2021</td>\n",
       "      <td>AVON PARK WORK CAMP</td>\n",
       "      <td>09/01/1991</td>\n",
       "    </tr>\n",
       "    <tr>\n",
       "      <th>733</th>\n",
       "      <td>16</td>\n",
       "      <td>*467</td>\n",
       "      <td>RODRIGUEZPANEQUE, YOEL</td>\n",
       "      <td>M53373</td>\n",
       "      <td>WHITE</td>\n",
       "      <td>MALE</td>\n",
       "      <td>01/28/2024</td>\n",
       "      <td>CHARLOTTE C.I.</td>\n",
       "      <td>12/21/1986</td>\n",
       "    </tr>\n",
       "    <tr>\n",
       "      <th>734</th>\n",
       "      <td>17</td>\n",
       "      <td>*468</td>\n",
       "      <td>RODRIGUEZPEREZ, NEFTALI</td>\n",
       "      <td>B11604</td>\n",
       "      <td>HISPANIC</td>\n",
       "      <td>MALE</td>\n",
       "      <td>07/07/2022</td>\n",
       "      <td>DESOTO ANNEX</td>\n",
       "      <td>03/11/1990</td>\n",
       "    </tr>\n",
       "    <tr>\n",
       "      <th>735</th>\n",
       "      <td>18</td>\n",
       "      <td>*469</td>\n",
       "      <td>RODRIGUEZVASQUEZ, MIGUEL</td>\n",
       "      <td>H36963</td>\n",
       "      <td>WHITE</td>\n",
       "      <td>MALE</td>\n",
       "      <td>06/01/2034</td>\n",
       "      <td>EVERGLADES C.I.</td>\n",
       "      <td>10/05/1991</td>\n",
       "    </tr>\n",
       "    <tr>\n",
       "      <th>736</th>\n",
       "      <td>19</td>\n",
       "      <td>*470</td>\n",
       "      <td>RODRIGUEZVAZQUEZ, GERARDO</td>\n",
       "      <td>X92953</td>\n",
       "      <td>WHITE</td>\n",
       "      <td>MALE</td>\n",
       "      <td>09/25/2034</td>\n",
       "      <td>APALACHEE EAST UNIT</td>\n",
       "      <td>05/22/1979</td>\n",
       "    </tr>\n",
       "  </tbody>\n",
       "</table>\n",
       "</div>"
      ],
      "text/plain": [
       "     index Click Number for Details                       Name DC Number  \\\n",
       "732     15                     *466  RODRIGUEZOCHOA, SEBASTIAN    S41740   \n",
       "733     16                     *467     RODRIGUEZPANEQUE, YOEL    M53373   \n",
       "734     17                     *468    RODRIGUEZPEREZ, NEFTALI    B11604   \n",
       "735     18                     *469   RODRIGUEZVASQUEZ, MIGUEL    H36963   \n",
       "736     19                     *470  RODRIGUEZVAZQUEZ, GERARDO    X92953   \n",
       "\n",
       "         Race   Sex Release Date     Current Facility  Birth Date  \n",
       "732  HISPANIC  MALE   04/06/2021  AVON PARK WORK CAMP  09/01/1991  \n",
       "733     WHITE  MALE   01/28/2024       CHARLOTTE C.I.  12/21/1986  \n",
       "734  HISPANIC  MALE   07/07/2022         DESOTO ANNEX  03/11/1990  \n",
       "735     WHITE  MALE   06/01/2034      EVERGLADES C.I.  10/05/1991  \n",
       "736     WHITE  MALE   09/25/2034  APALACHEE EAST UNIT  05/22/1979  "
      ]
     },
     "execution_count": 9,
     "metadata": {},
     "output_type": "execute_result"
    }
   ],
   "source": [
    "hispanic_inmates.tail()"
   ]
  },
  {
   "cell_type": "code",
   "execution_count": 29,
   "metadata": {},
   "outputs": [
    {
     "data": {
      "text/html": [
       "<div>\n",
       "<style scoped>\n",
       "    .dataframe tbody tr th:only-of-type {\n",
       "        vertical-align: middle;\n",
       "    }\n",
       "\n",
       "    .dataframe tbody tr th {\n",
       "        vertical-align: top;\n",
       "    }\n",
       "\n",
       "    .dataframe thead th {\n",
       "        text-align: right;\n",
       "    }\n",
       "</style>\n",
       "<table border=\"1\" class=\"dataframe\">\n",
       "  <thead>\n",
       "    <tr style=\"text-align: right;\">\n",
       "      <th></th>\n",
       "      <th>Name</th>\n",
       "    </tr>\n",
       "    <tr>\n",
       "      <th>Race</th>\n",
       "      <th></th>\n",
       "    </tr>\n",
       "  </thead>\n",
       "  <tbody>\n",
       "    <tr>\n",
       "      <th>ALL OTHERS/UNKNOWN</th>\n",
       "      <td>1.221167</td>\n",
       "    </tr>\n",
       "    <tr>\n",
       "      <th>BLACK</th>\n",
       "      <td>4.613297</td>\n",
       "    </tr>\n",
       "    <tr>\n",
       "      <th>HISPANIC</th>\n",
       "      <td>37.042062</td>\n",
       "    </tr>\n",
       "    <tr>\n",
       "      <th>WHITE</th>\n",
       "      <td>57.123474</td>\n",
       "    </tr>\n",
       "  </tbody>\n",
       "</table>\n",
       "</div>"
      ],
      "text/plain": [
       "                         Name\n",
       "Race                         \n",
       "ALL OTHERS/UNKNOWN   1.221167\n",
       "BLACK                4.613297\n",
       "HISPANIC            37.042062\n",
       "WHITE               57.123474"
      ]
     },
     "execution_count": 29,
     "metadata": {},
     "output_type": "execute_result"
    }
   ],
   "source": [
    "hispanic_inmates.groupby(['Race']).count()[['Name']] / hispanic_inmates.count()[0] * 100"
   ]
  },
  {
   "cell_type": "markdown",
   "metadata": {},
   "source": [
    "## Distribution of race assignments"
   ]
  },
  {
   "cell_type": "code",
   "execution_count": null,
   "metadata": {},
   "outputs": [],
   "source": []
  },
  {
   "cell_type": "code",
   "execution_count": null,
   "metadata": {},
   "outputs": [],
   "source": []
  },
  {
   "cell_type": "code",
   "execution_count": null,
   "metadata": {},
   "outputs": [],
   "source": []
  },
  {
   "cell_type": "code",
   "execution_count": null,
   "metadata": {},
   "outputs": [],
   "source": []
  },
  {
   "cell_type": "code",
   "execution_count": null,
   "metadata": {},
   "outputs": [],
   "source": []
  },
  {
   "cell_type": "code",
   "execution_count": null,
   "metadata": {},
   "outputs": [],
   "source": []
  },
  {
   "cell_type": "code",
   "execution_count": null,
   "metadata": {},
   "outputs": [],
   "source": []
  },
  {
   "cell_type": "code",
   "execution_count": null,
   "metadata": {},
   "outputs": [],
   "source": []
  },
  {
   "cell_type": "code",
   "execution_count": null,
   "metadata": {},
   "outputs": [],
   "source": []
  }
 ],
 "metadata": {
  "kernelspec": {
   "display_name": "Python 3",
   "language": "python",
   "name": "python3"
  },
  "language_info": {
   "codemirror_mode": {
    "name": "ipython",
    "version": 3
   },
   "file_extension": ".py",
   "mimetype": "text/x-python",
   "name": "python",
   "nbconvert_exporter": "python",
   "pygments_lexer": "ipython3",
   "version": "3.7.3"
  }
 },
 "nbformat": 4,
 "nbformat_minor": 2
}
