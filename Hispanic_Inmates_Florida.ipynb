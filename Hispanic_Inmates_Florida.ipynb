{
 "cells": [
  {
   "cell_type": "markdown",
   "metadata": {},
   "source": [
    "# Approximating the number of Hispanic inmates"
   ]
  },
  {
   "cell_type": "markdown",
   "metadata": {},
   "source": [
    "Loading the libraries to be used:"
   ]
  },
  {
   "cell_type": "code",
   "execution_count": null,
   "metadata": {},
   "outputs": [],
   "source": [
    "qtconsole"
   ]
  },
  {
   "cell_type": "code",
   "execution_count": null,
   "metadata": {},
   "outputs": [],
   "source": [
    "import pandas as pd\n",
    "import requests\n",
    "from bs4 import BeautifulSoup\n",
    "from selenium import webdriver\n",
    "from selenium.webdriver.common.keys import Keys\n",
    "import time"
   ]
  },
  {
   "cell_type": "markdown",
   "metadata": {},
   "source": [
    "## Getting a list of common Hispanic names in the US"
   ]
  },
  {
   "cell_type": "markdown",
   "metadata": {},
   "source": [
    "We are going to extract a list of common Hispanic names in the US. This is from the website Mongobay.com and the data is taken from the 2010 US Census. This list will be used to compare with the names of the inmates and guess whether or not they are hispanic."
   ]
  },
  {
   "cell_type": "code",
   "execution_count": null,
   "metadata": {},
   "outputs": [],
   "source": [
    "url_common_lastnames = 'https://global.mongabay.com/es/nombres/hispanic.html'\n",
    "\n",
    "response_common_lastnames = requests.get(url_common_lastnames)\n",
    "soup_common_lastnames = BeautifulSoup(response_common_lastnames.text)\n",
    "table = soup_common_lastnames.find_all(id='myTable')[0]\n",
    "\n",
    "common_names_list = []\n",
    "#There are 10 columns in this table, which is being processed as a list of strings using the .strings method.\n",
    "#However, an extra column with '\\n' is present at the beginning because of the HTML,\n",
    "#so we are taking the name to be in the second column.\n",
    "for i, s in enumerate(table.strings):\n",
    "    if (i%11==1): common_names_list.append(s)\n",
    "print(common_names_list[:3], '...', common_names_list[-3:]) #inspection of the result"
   ]
  },
  {
   "cell_type": "markdown",
   "metadata": {},
   "source": [
    "We notice that the column title is at the beginning and there are two unwanted characters at the tail, so they are removed."
   ]
  },
  {
   "cell_type": "code",
   "execution_count": null,
   "metadata": {},
   "outputs": [],
   "source": [
    "common_names_list.pop(0)\n",
    "common_names_list.pop()\n",
    "common_names_list.pop()"
   ]
  },
  {
   "cell_type": "code",
   "execution_count": null,
   "metadata": {},
   "outputs": [],
   "source": [
    "print('Total number of names:', len(common_names_list))"
   ]
  },
  {
   "cell_type": "code",
   "execution_count": null,
   "metadata": {},
   "outputs": [],
   "source": [
    "with open('common_list_names.txt', 'w') as f:\n",
    "    for i in range(len(common_names_list)):\n",
    "        f.write(common_names_list[i]+'\\n')"
   ]
  },
  {
   "cell_type": "markdown",
   "metadata": {},
   "source": [
    "The next function makes it easier to access the search page with parameters such as 'Search Aliases = No'."
   ]
  },
  {
   "cell_type": "code",
   "execution_count": null,
   "metadata": {},
   "outputs": [],
   "source": [
    "def make_url(last_name):\n",
    "    return 'http://www.dc.state.fl.us/OffenderSearch/list.aspx?TypeSearch=AI&Page=List&DataAction=Filter&dcnumber=&LastName={}&FirstName=&SearchAliases=0&OffenseCategory=&CurrentLocation=&CountyOfCommitment=&photosonly=0&nophotos=1&matches=50'.format(last_name)"
   ]
  },
  {
   "cell_type": "markdown",
   "metadata": {},
   "source": [
    "Setting up the webdriver which will simulate accessing the website in a Firefox Browser.\n",
    "We set it to headless so that an actual browser window."
   ]
  },
  {
   "cell_type": "code",
   "execution_count": null,
   "metadata": {},
   "outputs": [],
   "source": [
    "ffoptions = webdriver.firefox.options.Options()\n",
    "ffoptions.headless = True\n",
    "driver = webdriver.Firefox(options=ffoptions)\n",
    "driver.implicitly_wait(30)"
   ]
  },
  {
   "cell_type": "markdown",
   "metadata": {},
   "source": [
    "Setting up the list of tables which will be collected and then running the collection loop."
   ]
  },
  {
   "cell_type": "code",
   "execution_count": null,
   "metadata": {
    "scrolled": true
   },
   "outputs": [],
   "source": [
    "list_of_tables = []\n",
    "\n",
    "for name in common_names_list:\n",
    "#     print('name=',name)\n",
    "    number_of_results = last_elem_page = 50 #number of results per page and a variable to check if it is finished loading\n",
    "    try:\n",
    "        driver.get(make_url(name))\n",
    "        last_elem_total = driver.find_element_by_id('ctl00_ContentPlaceHolder1_lblgrdListPage')\n",
    "        last_elem_total = int(last_elem_total.text[last_elem_total.text.find('of') + 3:])\n",
    "    except:\n",
    "        #no results and no table found, therefore continue on to the next name\n",
    "        continue\n",
    "\n",
    "    while True:\n",
    "        temp_table = pd.read_html(driver.page_source, attrs={'id':'ctl00_ContentPlaceHolder1_grdList'})[0]\n",
    "        time.sleep(1)\n",
    "        if (str(last_elem_page) in temp_table.iloc[-1,0]) or (str(last_elem_total) in temp_table.iloc[-1,0]):\n",
    "            #sometimes the next page won't load quickly enough and the same table is reloaded\n",
    "            #this checks where we are in the collection and avoids duplicate tables\n",
    "            list_of_tables.append(temp_table)\n",
    "            last_elem_page += number_of_results\n",
    "            try:\n",
    "                #moving on to the next page of results.\n",
    "                elem = driver.find_element_by_name('ctl00$ContentPlaceHolder1$btnListNext')\n",
    "                elem.send_keys(Keys.RETURN)\n",
    "            except:\n",
    "                #no more results. move on to next name.\n",
    "                break"
   ]
  },
  {
   "cell_type": "markdown",
   "metadata": {},
   "source": [
    "We close the webdriver object and concatenate all DataFrames collected."
   ]
  },
  {
   "cell_type": "code",
   "execution_count": null,
   "metadata": {},
   "outputs": [],
   "source": [
    "driver.close()\n",
    "hispanic_inmates = pd.concat(list_of_tables)\n",
    "hispanic_inmates.reset_index(inplace=True)"
   ]
  },
  {
   "cell_type": "markdown",
   "metadata": {},
   "source": [
    "Table inspection"
   ]
  },
  {
   "cell_type": "code",
   "execution_count": null,
   "metadata": {},
   "outputs": [],
   "source": [
    "hispanic_inmates.tail()"
   ]
  },
  {
   "cell_type": "code",
   "execution_count": null,
   "metadata": {},
   "outputs": [],
   "source": [
    "hispanic_inmates.info()"
   ]
  },
  {
   "cell_type": "code",
   "execution_count": null,
   "metadata": {},
   "outputs": [],
   "source": []
  },
  {
   "cell_type": "code",
   "execution_count": null,
   "metadata": {},
   "outputs": [],
   "source": []
  },
  {
   "cell_type": "code",
   "execution_count": null,
   "metadata": {},
   "outputs": [],
   "source": []
  },
  {
   "cell_type": "code",
   "execution_count": null,
   "metadata": {},
   "outputs": [],
   "source": []
  },
  {
   "cell_type": "code",
   "execution_count": null,
   "metadata": {},
   "outputs": [],
   "source": []
  },
  {
   "cell_type": "code",
   "execution_count": null,
   "metadata": {},
   "outputs": [],
   "source": []
  },
  {
   "cell_type": "code",
   "execution_count": null,
   "metadata": {},
   "outputs": [],
   "source": []
  },
  {
   "cell_type": "code",
   "execution_count": null,
   "metadata": {},
   "outputs": [],
   "source": []
  },
  {
   "cell_type": "code",
   "execution_count": null,
   "metadata": {},
   "outputs": [],
   "source": []
  },
  {
   "cell_type": "code",
   "execution_count": null,
   "metadata": {},
   "outputs": [],
   "source": []
  },
  {
   "cell_type": "code",
   "execution_count": null,
   "metadata": {},
   "outputs": [],
   "source": []
  }
 ],
 "metadata": {
  "kernelspec": {
   "display_name": "Python 3",
   "language": "python",
   "name": "python3"
  },
  "language_info": {
   "codemirror_mode": {
    "name": "ipython",
    "version": 3
   },
   "file_extension": ".py",
   "mimetype": "text/x-python",
   "name": "python",
   "nbconvert_exporter": "python",
   "pygments_lexer": "ipython3",
   "version": "3.7.3"
  }
 },
 "nbformat": 4,
 "nbformat_minor": 2
}
