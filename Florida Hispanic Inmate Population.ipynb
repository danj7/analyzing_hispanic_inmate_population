{
 "cells": [
  {
   "cell_type": "markdown",
   "metadata": {},
   "source": [
    "# Approximating the number of Hispanic inmates"
   ]
  },
  {
   "cell_type": "markdown",
   "metadata": {},
   "source": [
    "Loading the libraries to be used:"
   ]
  },
  {
   "cell_type": "code",
   "execution_count": null,
   "metadata": {},
   "outputs": [],
   "source": [
    "qtconsole"
   ]
  },
  {
   "cell_type": "code",
   "execution_count": null,
   "metadata": {},
   "outputs": [],
   "source": [
    "import pandas as pd\n",
    "import requests\n",
    "from bs4 import BeautifulSoup\n",
    "from selenium import webdriver\n",
    "from selenium.webdriver.common.keys import Keys\n",
    "import time\n",
    "import numpy as np"
   ]
  },
  {
   "cell_type": "markdown",
   "metadata": {},
   "source": [
    "## Getting a list of common Hispanic names in the US"
   ]
  },
  {
   "cell_type": "markdown",
   "metadata": {},
   "source": [
    "We are going to use the same list as in the case of Polk County (view the other notebook in this repo). This list is a reduced version of the one found at the website Mongobay.com and the data is taken from the 2010 US Census. This list will be used to compare with the names of the inmates and guess whether or not they are hispanic."
   ]
  },
  {
   "cell_type": "code",
   "execution_count": null,
   "metadata": {},
   "outputs": [],
   "source": [
    "common_names_list = np.loadtxt('common_names_list.txt', dtype=str, unpack=True)\n",
    "print('Total number of names =', len(common_names_list))"
   ]
  },
  {
   "cell_type": "markdown",
   "metadata": {},
   "source": [
    "# Trying with only 10 names!"
   ]
  },
  {
   "cell_type": "code",
   "execution_count": null,
   "metadata": {},
   "outputs": [],
   "source": [
    "common_names_list = common_names_list[:10]\n",
    "print('Total number of names =', len(common_names_list))"
   ]
  },
  {
   "cell_type": "markdown",
   "metadata": {},
   "source": [
    "The next function makes it easier to access the search page with parameters such as 'Search Aliases = No'."
   ]
  },
  {
   "cell_type": "code",
   "execution_count": null,
   "metadata": {},
   "outputs": [],
   "source": [
    "def make_url(last_name):\n",
    "    return 'http://www.dc.state.fl.us/OffenderSearch/list.aspx?TypeSearch=AI&Page=List&DataAction=Filter&dcnumber=&LastName={}&FirstName=&SearchAliases=0&OffenseCategory=&CurrentLocation=&CountyOfCommitment=&photosonly=0&nophotos=1&matches=50'.format(last_name)"
   ]
  },
  {
   "cell_type": "markdown",
   "metadata": {},
   "source": [
    "Setting up the webdriver which will simulate accessing the website in a Firefox Browser.\n",
    "We set it to headless so that an actual browser window."
   ]
  },
  {
   "cell_type": "code",
   "execution_count": null,
   "metadata": {},
   "outputs": [],
   "source": [
    "ffoptions = webdriver.firefox.options.Options()\n",
    "ffoptions.headless = True\n",
    "driver = webdriver.Firefox(options=ffoptions)\n",
    "driver.implicitly_wait(1)"
   ]
  },
  {
   "cell_type": "markdown",
   "metadata": {},
   "source": [
    "Setting up the list of tables which will be collected and then running the collection loop."
   ]
  },
  {
   "cell_type": "code",
   "execution_count": null,
   "metadata": {
    "scrolled": true
   },
   "outputs": [],
   "source": [
    "list_of_tables = []\n",
    "\n",
    "for i, name in enumerate(common_names_list):\n",
    "    print('i:',i,'; name=',name)\n",
    "    number_of_results = last_elem_page = 50 #number of results per page and a variable to check if it is finished loading\n",
    "    try:\n",
    "        driver.get(make_url(name))\n",
    "        last_elem_total = driver.find_element_by_id('ctl00_ContentPlaceHolder1_lblgrdListPage')\n",
    "        last_elem_total = int(last_elem_total.text[last_elem_total.text.find('of') + 3:])\n",
    "    except:\n",
    "        #no results and no table found, therefore continue on to the next name\n",
    "        continue\n",
    "\n",
    "    while True:\n",
    "        temp_table = pd.read_html(driver.page_source, attrs={'id':'ctl00_ContentPlaceHolder1_grdList'})[0]\n",
    "        #time.sleep(1)\n",
    "        if (str(last_elem_page) in temp_table.iloc[-1,0]) or (str(last_elem_total) in temp_table.iloc[-1,0]):\n",
    "            #sometimes the next page won't load quickly enough and the same table is reloaded\n",
    "            #this checks where we are in the collection and avoids duplicate tables\n",
    "            list_of_tables.append(temp_table)\n",
    "            last_elem_page += number_of_results\n",
    "            try:\n",
    "                #moving on to the next page of results.\n",
    "                elem = driver.find_element_by_name('ctl00$ContentPlaceHolder1$btnListNext')\n",
    "                elem.send_keys(Keys.RETURN)\n",
    "            except:\n",
    "                #no more results. move on to next name.\n",
    "                break"
   ]
  },
  {
   "cell_type": "markdown",
   "metadata": {},
   "source": [
    "We close the webdriver object and concatenate all DataFrames collected."
   ]
  },
  {
   "cell_type": "code",
   "execution_count": null,
   "metadata": {},
   "outputs": [],
   "source": [
    "driver.close()\n",
    "hispanic_inmates = pd.concat(list_of_tables)\n",
    "hispanic_inmates.reset_index(inplace=True)"
   ]
  },
  {
   "cell_type": "markdown",
   "metadata": {},
   "source": [
    "Table inspection"
   ]
  },
  {
   "cell_type": "code",
   "execution_count": null,
   "metadata": {},
   "outputs": [],
   "source": [
    "hispanic_inmates.sample(3)"
   ]
  },
  {
   "cell_type": "markdown",
   "metadata": {},
   "source": [
    "We can clear this table a little bit by getting rid of some columns we don't need."
   ]
  },
  {
   "cell_type": "code",
   "execution_count": null,
   "metadata": {},
   "outputs": [],
   "source": [
    "hispanic_inmates = hispanic_inmates[['Name', 'Race', 'Sex']]"
   ]
  },
  {
   "cell_type": "code",
   "execution_count": null,
   "metadata": {
    "scrolled": true
   },
   "outputs": [],
   "source": [
    "hispanic_inmates.sample(3)"
   ]
  },
  {
   "cell_type": "markdown",
   "metadata": {},
   "source": [
    "## Distribution of race assignments"
   ]
  },
  {
   "cell_type": "markdown",
   "metadata": {},
   "source": [
    "Even though most of the people in the table seem to be hispanic (some might have a hispanic name but not be hispanic), not all are labeled as such. The race categories in this database are:"
   ]
  },
  {
   "cell_type": "code",
   "execution_count": null,
   "metadata": {},
   "outputs": [],
   "source": [
    "hispanic_inmates['Race'].unique()"
   ]
  },
  {
   "cell_type": "markdown",
   "metadata": {},
   "source": [
    "The distribution of races in this database are shown in the following table."
   ]
  },
  {
   "cell_type": "code",
   "execution_count": null,
   "metadata": {},
   "outputs": [],
   "source": [
    "race_distribution = hispanic_inmates.groupby(['Race']).count()[['Name']]\n",
    "race_distribution.columns = ['Count']\n",
    "race_distribution"
   ]
  }
 ],
 "metadata": {
  "kernelspec": {
   "display_name": "Python 3",
   "language": "python",
   "name": "python3"
  },
  "language_info": {
   "codemirror_mode": {
    "name": "ipython",
    "version": 3
   },
   "file_extension": ".py",
   "mimetype": "text/x-python",
   "name": "python",
   "nbconvert_exporter": "python",
   "pygments_lexer": "ipython3",
   "version": "3.7.3"
  }
 },
 "nbformat": 4,
 "nbformat_minor": 2
}
